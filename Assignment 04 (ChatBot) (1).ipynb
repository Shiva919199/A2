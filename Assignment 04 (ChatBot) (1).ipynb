{
 "cells": [
  {
   "cell_type": "code",
   "execution_count": 1,
   "id": "8d59caef",
   "metadata": {},
   "outputs": [
    {
     "name": "stdout",
     "output_type": "stream",
     "text": [
      "Please enter your name :- shivam\n"
     ]
    }
   ],
   "source": [
    "name = input(\"Please enter your name :- \")"
   ]
  },
  {
   "cell_type": "code",
   "execution_count": 16,
   "id": "9e36f59a",
   "metadata": {},
   "outputs": [
    {
     "name": "stdout",
     "output_type": "stream",
     "text": [
      "https://www.hdfcbank.com/personal/save/accounts/savings-accounts\n",
      "https://www.hdfcbank.com/personal/save/accounts/savings-accounts/regular-savings-accounts\n"
     ]
    }
   ],
   "source": [
    "from googlesearch import search\n",
    "query = (\"HDFC Opening of Saving Account\")\n",
    "for i in search(query, stop=2, pause = 2):\n",
    "    print(i)\n",
    "\n"
   ]
  },
  {
   "cell_type": "code",
   "execution_count": 19,
   "id": "f8dbfd40",
   "metadata": {},
   "outputs": [
    {
     "name": "stdout",
     "output_type": "stream",
     "text": [
      "Current Date & Time is :- 2022-04-06 15:20:16.346983\n",
      "Welcome to HDFC Bank!\n",
      "2022-04-06 15:20:16.349212\n",
      "Please Enter Your Name :- Shivam\n",
      "Hello Shivam \n",
      "How May I help you..?\n",
      "Select your Query :- \n",
      "1. Account\n",
      "2. Card\n",
      "3. Mode of Banking\n",
      "1\n"
     ]
    }
   ],
   "source": [
    "#Greeting the Customer\n",
    "from googlesearch import search\n",
    "import datetime\n",
    "Bank = {'1. Account': ['Savings Account', 'Current Account'],\n",
    "        '2. Card' : ['Credit Card', 'Debit Card'],\n",
    "       '3. Mode of Banking': ['Internet Banking','Mobile Banking']}\n",
    "\n",
    "date = datetime.datetime.now()\n",
    "print(\"Current Date & Time is :-\", date) \n",
    "\n",
    "print(\"Welcome to HDFC Bank!\")\n",
    "\n",
    "\n",
    "import datetime\n",
    "\n",
    "x = datetime.datetime.now()\n",
    "print(x) \n",
    "\n",
    "name = input(\"Please Enter Your Name :- \")\n",
    "print(\"Hello\", name, \"\\nHow May I help you..?\")\n",
    "print(\"Select your Query :- \")\n",
    "\n",
    "for key, value in Bank.items():\n",
    "    print(key)\n",
    "i = input()\n",
    "for i in Bank:\n",
    "    if (i == 'Account'):Account\n",
    "        print(i, Bank[i])\n",
    "        \n",
    "        \n",
    "       \n",
    "\n",
    "\n",
    "    \n",
    "\n",
    "\n",
    "\n"
   ]
  },
  {
   "cell_type": "code",
   "execution_count": null,
   "id": "e1b52f7d",
   "metadata": {},
   "outputs": [],
   "source": [
    "#Greeting the Customer\n",
    "from googlesearch import search\n",
    "import datetime\n",
    "Bank = {'1. Account': ['Savings Account', 'Current Account'],\n",
    "        '2. Card' : ['Credit Card', 'Debit Card'],\n",
    "       '3. Mode of Banking': ['Internet Banking','Mobile Banking']}\n",
    "\n",
    "print(\"Welcome to HDFC Bank!\")\n",
    "\n",
    "def greeting_name():\n",
    "    name = input(\"Please Enter Your Name to proceed :- \")\n",
    "    return name\n",
    "\n",
    "def greeting_time(n):\n",
    "    \n",
    "    \n",
    "    \n"
   ]
  },
  {
   "cell_type": "code",
   "execution_count": null,
   "id": "1fe0ca23",
   "metadata": {},
   "outputs": [],
   "source": []
  }
 ],
 "metadata": {
  "kernelspec": {
   "display_name": "Python 3",
   "language": "python",
   "name": "python3"
  },
  "language_info": {
   "codemirror_mode": {
    "name": "ipython",
    "version": 3
   },
   "file_extension": ".py",
   "mimetype": "text/x-python",
   "name": "python",
   "nbconvert_exporter": "python",
   "pygments_lexer": "ipython3",
   "version": "3.8.8"
  }
 },
 "nbformat": 4,
 "nbformat_minor": 5
}
